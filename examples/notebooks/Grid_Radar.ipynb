{
 "cells": [
  {
   "cell_type": "markdown",
   "metadata": {},
   "source": [
    "# Grid Radar -> Plot Max-CAPPI"
   ]
  },
  {
   "cell_type": "markdown",
   "metadata": {},
   "source": [
    "We are using [fast-barnes-py](https://github.com/MeteoSwiss/fast-barnes-py.git) to grid the radar data. Please cite if you use it in your research."
   ]
  },
  {
   "cell_type": "code",
   "execution_count": null,
   "metadata": {},
   "outputs": [],
   "source": [
    "import fsspec\n",
    "import radarx as rx\n",
    "import xradar as xd\n",
    "import cmweather  # noqa\n",
    "import cartopy.crs as ccrs\n",
    "import matplotlib.pyplot as plt\n",
    "from open_radar_data import DATASETS"
   ]
  },
  {
   "cell_type": "code",
   "execution_count": null,
   "metadata": {},
   "outputs": [],
   "source": [
    "file = \"s3://noaa-nexrad-level2/2022/03/30/KGWX/KGWX20220330_234639_V06\"\n",
    "local_file = fsspec.open_local(\n",
    "    f\"simplecache::s3://{file}\",\n",
    "    s3={\"anon\": True},\n",
    "    filecache={\"cache_storage\": \".\"},\n",
    ")\n",
    "dtree = xd.io.open_nexradlevel2_datatree(local_file)\n",
    "dtree = rx.combine_nexrad_sweeps(dtree)\n",
    "dtree = dtree.xradar.georeference()"
   ]
  },
  {
   "cell_type": "code",
   "execution_count": null,
   "metadata": {},
   "outputs": [],
   "source": [
    "dtree.groups"
   ]
  },
  {
   "cell_type": "code",
   "execution_count": null,
   "metadata": {},
   "outputs": [],
   "source": [
    "def filter_radar(ds):\n",
    "    ds = ds.where((ds.DBZH > -10) & (ds.DBZH < 75))\n",
    "    return ds"
   ]
  },
  {
   "cell_type": "code",
   "execution_count": null,
   "metadata": {},
   "outputs": [],
   "source": [
    "dtree = dtree.xradar.map_over_sweeps(filter_radar)"
   ]
  },
  {
   "cell_type": "code",
   "execution_count": null,
   "metadata": {},
   "outputs": [],
   "source": [
    "# Create a figure and axis\n",
    "fig, ax = plt.subplots(figsize=(7, 5))\n",
    "dtree[\"sweep_2\"][\"DBZH\"].plot.contourf(\n",
    "    x=\"x\",\n",
    "    y=\"y\",\n",
    "    levels=range(-10, 75),\n",
    "    cmap=\"NWSRef\",\n",
    "    ylim=(-200e3, 300e3),  # Adjust y-axis limits\n",
    "    xlim=(-200e3, 300e3),  # Adjust x-axis limits\n",
    "    ax=ax,  # Use the created axis\n",
    ")\n",
    "# Set the title\n",
    "ax.set_title(\n",
    "    f\"{dtree.attrs['instrument_name']} {dtree['sweep_0']['time'].min().values}\"\n",
    ")\n",
    "# Show the plot\n",
    "plt.show()"
   ]
  },
  {
   "cell_type": "code",
   "execution_count": null,
   "metadata": {},
   "outputs": [],
   "source": [
    "%%time\n",
    "ds = dtree.radarx.to_grid(\n",
    "    data_vars=[\"DBZH\"],\n",
    "    pseudo_cappi=True,\n",
    "    x_lim=(-100000.0, 100000.0),\n",
    "    y_lim=(-100000.0, 100000.0),\n",
    "    z_lim=(0, 10000.0),\n",
    "    x_step=1000,\n",
    "    y_step=1000,\n",
    "    z_step=250,\n",
    "    x_smth=0.2,\n",
    "    y_smth=0.2,\n",
    "    z_smth=1,\n",
    ")"
   ]
  },
  {
   "cell_type": "code",
   "execution_count": null,
   "metadata": {},
   "outputs": [],
   "source": [
    "ds.radarx.plot_max_cappi(\"DBZH\", cmap=\"ChaseSpectral\", add_slogan=True)"
   ]
  },
  {
   "cell_type": "code",
   "execution_count": null,
   "metadata": {},
   "outputs": [],
   "source": [
    "%%time\n",
    "ds2 = dtree.radarx.to_grid(\n",
    "    data_vars=[\"DBZH\"],\n",
    "    pseudo_cappi=False,\n",
    "    x_lim=(-200000.0, 200000.0),\n",
    "    y_lim=(-200000.0, 200000.0),\n",
    "    z_lim=(0, 15000.0),\n",
    "    x_step=1000,\n",
    "    y_step=1000,\n",
    "    z_step=250,\n",
    "    x_smth=0.2,\n",
    "    y_smth=0.2,\n",
    "    z_smth=1,\n",
    ")"
   ]
  },
  {
   "cell_type": "code",
   "execution_count": null,
   "metadata": {},
   "outputs": [],
   "source": [
    "ds2.radarx.plot_max_cappi(\"DBZH\", cmap=\"ChaseSpectral\", add_slogan=True)"
   ]
  },
  {
   "cell_type": "code",
   "execution_count": null,
   "metadata": {},
   "outputs": [],
   "source": [
    "#!/usr/bin/env python\n",
    "# Copyright (c) 2024-2025, Radarx developers.\n",
    "# Distributed under the MIT License. See LICENSE for more info.\n",
    "\n",
    "\"\"\"\n",
    "Tests for Radarx Max-Cappi\n",
    "==========================\n",
    "\"\"\"\n",
    "import os\n",
    "import pytest\n",
    "import matplotlib.pyplot as plt\n",
    "from radarx.vis.maxcappi import plot_maxcappi\n",
    "from open_radar_data import DATASETS\n",
    "import xradar as xd\n",
    "import radarx as rx\n",
    "\n",
    "\n",
    "# @pytest.fixture\n",
    "def mock_dtree():\n",
    "    \"\"\"Fixture to create a mock radar DataTree.\"\"\"\n",
    "    file = DATASETS.fetch(\"swx_20120520_0641.nc\")\n",
    "    dtree = xd.io.open_cfradial1_datatree(file, sweep=[0, 1, 2, 3, 5, 7])\n",
    "    return dtree\n",
    "\n",
    "\n",
    "def test_plot_maxcappi_basic(mock_dtree):\n",
    "    \"\"\"Basic test for `plot_maxcappi` with visualization.\"\"\"\n",
    "    # Grid the radar data\n",
    "    ds = mock_dtree.radarx.to_grid(\n",
    "        data_vars=[\"corrected_reflectivity_horizontal\"],\n",
    "        pseudo_cappi=True,\n",
    "        x_lim=(-50e3, 50e3),\n",
    "        y_lim=(-50e3, 50e3),\n",
    "        z_lim=(0, 5e3),\n",
    "        x_step=2000,\n",
    "        y_step=2000,\n",
    "        z_step=1000,\n",
    "    )\n",
    "\n",
    "    # Define a temporary directory to save the plot\n",
    "    path = os.get_cwd()\n",
    "    print(path)\n",
    "    savedir = f\"{path}/test_plot.png\"\n",
    "    print(savedir)\n",
    "\n",
    "    # Plot Max-CAPPI with additional annotations\n",
    "    plot_maxcappi(\n",
    "        ds=ds,\n",
    "        data_var=\"corrected_reflectivity_horizontal\",\n",
    "        cmap=\"viridis\",\n",
    "        vmin=0,\n",
    "        vmax=60,\n",
    "        title=\"Test Max-CAPPI with Visualization\",\n",
    "        add_map=True,\n",
    "        colorbar=True,\n",
    "        show_figure=True,  # Launch the figure for visualization\n",
    "        savedir=savedir,\n",
    "    )\n",
    "\n",
    "    # Assert the plot was saved\n",
    "    assert os.path.exists(savedir), \"The Max-CAPPI plot was not saved as expected.\"\n",
    "\n",
    "    # Visualize the saved figure for real-time debugging\n",
    "    img = plt.imread(savedir)\n",
    "    plt.figure()\n",
    "    plt.imshow(img)\n",
    "    plt.title(\"Saved Max-CAPPI Visualization\")\n",
    "    plt.axis(\"off\")\n",
    "    plt.show()\n",
    "\n",
    "    # Add further assertions (e.g., validate dataset properties)\n",
    "    assert (\n",
    "        \"corrected_reflectivity_horizontal\" in ds.data_vars\n",
    "    ), \"Variable missing in dataset.\"\n",
    "    assert ds[\"corrected_reflectivity_horizontal\"].shape == (\n",
    "        6,\n",
    "        51,\n",
    "        51,\n",
    "    ), \"Unexpected data shape.\""
   ]
  },
  {
   "cell_type": "code",
   "execution_count": null,
   "metadata": {},
   "outputs": [],
   "source": [
    "test_plot_maxcappi_basic(mock_dtree)"
   ]
  },
  {
   "cell_type": "code",
   "execution_count": null,
   "metadata": {},
   "outputs": [],
   "source": []
  }
 ],
 "metadata": {
  "language_info": {
   "codemirror_mode": {
    "name": "ipython",
    "version": 3
   },
   "file_extension": ".py",
   "mimetype": "text/x-python",
   "name": "python",
   "nbconvert_exporter": "python",
   "pygments_lexer": "ipython3",
   "version": "3.12.7"
  }
 },
 "nbformat": 4,
 "nbformat_minor": 2
}
