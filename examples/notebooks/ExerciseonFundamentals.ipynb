{
 "cells": [
  {
   "cell_type": "markdown",
   "id": "0",
   "metadata": {},
   "source": [
    "# Exercise on Fundamentals"
   ]
  },
  {
   "cell_type": "markdown",
   "id": "1",
   "metadata": {},
   "source": [
    "These probelms are taken from\n",
    ">Rahman, H. (2019). Fundamental principles of radar. CRC Press."
   ]
  },
  {
   "cell_type": "code",
   "execution_count": null,
   "id": "2",
   "metadata": {},
   "outputs": [],
   "source": [
    "import numpy as np\n",
    "from radarx.fundamentals import (\n",
    "    constants,\n",
    "    beam,\n",
    "    power,\n",
    "    doppler,\n",
    "    timing,\n",
    "    reflectivity,\n",
    "    scattering,\n",
    "    common,\n",
    "    principles,\n",
    "    system,\n",
    ")"
   ]
  },
  {
   "cell_type": "code",
   "execution_count": null,
   "id": "3",
   "metadata": {},
   "outputs": [],
   "source": [
    "# -------------------------------------------------------------------\n",
    "# Example 2.8: S‑band radar calculations\n",
    "# -------------------------------------------------------------------\n",
    "print(\"\\n--- S-Band Radar Problem ---\")\n",
    "peak_power = 250e3\n",
    "prf_sband = 500\n",
    "pulse_width_sband = 1.5e-6\n",
    "frequency_sband = 3000e6\n",
    "wavelength_sband = constants.C / frequency_sband\n",
    "vr_sband = 30\n",
    "duration_ms = 10e-3\n",
    "\n",
    "unamb_range = doppler.unambiguous_range(prf_sband)\n",
    "range_res = principles.compute_range_resolution(pulse_width_sband)\n",
    "duty_cycle_sband = timing.compute_duty_cycle(pulse_width_sband, prf_sband)\n",
    "duty_factor_sband = pulse_width_sband * prf_sband\n",
    "print(f\"(a) Unambiguous Range: {unamb_range:.2f} m\")\n",
    "print(f\"    Range Resolution: {range_res:.2f} m\")\n",
    "print(f\"    Duty Cycle: {duty_cycle_sband:.4f}\")\n",
    "print(f\"    Duty Factor: {duty_factor_sband:.6f}\")\n",
    "\n",
    "avg_power_sband = power.compute_average_power(peak_power, duty_cycle_sband)\n",
    "energy_radiated = avg_power_sband * duration_ms\n",
    "print(f\"(b) Average Power: {avg_power_sband:.2f} W\")\n",
    "print(f\"    Energy Radiated in 10 ms: {energy_radiated:.4f} J\")\n",
    "\n",
    "doppler_shift = doppler.doppler_frequency_shift(frequency_sband, vr_sband)\n",
    "print(f\"(c) Doppler Shift (approx): {doppler_shift:.2f} Hz\")"
   ]
  },
  {
   "cell_type": "code",
   "execution_count": null,
   "id": "4",
   "metadata": {},
   "outputs": [],
   "source": [
    "# -------------------------------------------------------------------\n",
    "# Example 3.1: X‑band antenna gain\n",
    "# -------------------------------------------------------------------\n",
    "print(\"\\n--- X-Band Antenna Gain Problem ---\")\n",
    "frequency_xband = 8e9\n",
    "wavelength_xband = constants.C / frequency_xband\n",
    "rho_a = 1.0\n",
    "for diameter in [1.0, 1.5, 2.0]:\n",
    "    area = np.pi * (diameter / 2) ** 2\n",
    "    ae = rho_a * area\n",
    "    gain_db = 10 * np.log10((4 * np.pi * ae) / wavelength_xband**2)\n",
    "    print(f\"Diameter = {diameter:.1f} m -> Gain = {gain_db:.2f} dB\")"
   ]
  },
  {
   "cell_type": "code",
   "execution_count": null,
   "id": "5",
   "metadata": {},
   "outputs": [],
   "source": [
    "# -------------------------------------------------------------------\n",
    "# C‑band example (average power, bandwidth, range resolution)\n",
    "# -------------------------------------------------------------------\n",
    "print(\"\\n--- C-Band Radar Quick Example ---\")\n",
    "peak_power = 1e6\n",
    "pulse_width = 1e-6\n",
    "prf = 200\n",
    "frequency = 5.5e9\n",
    "avg_power = power.compute_average_power(peak_power, pulse_width * prf)\n",
    "bandwidth = 1 / pulse_width\n",
    "range_res = principles.compute_range_resolution(pulse_width)\n",
    "print(f\"Average Power: {avg_power:.2f} W\")\n",
    "print(f\"Bandwidth: {bandwidth:.0f} Hz\")\n",
    "print(f\"Range Resolution: {range_res:.2f} m\")"
   ]
  },
  {
   "cell_type": "code",
   "execution_count": null,
   "id": "6",
   "metadata": {},
   "outputs": [],
   "source": [
    "# -------------------------------------------------------------------\n",
    "# Doppler shift example (exact vs approximate)\n",
    "# -------------------------------------------------------------------\n",
    "print(\"\\n--- Doppler Frequency Shift Example ---\")\n",
    "v_r = 300\n",
    "f_0 = 12e9\n",
    "f_d_exact = doppler.doppler_frequency_shift(f_0, v_r, exact=True)\n",
    "f_d_approx = doppler.doppler_frequency_shift(f_0, v_r, exact=False)\n",
    "print(f\"(a) Exact Doppler Frequency: {f_d_exact:.2f} Hz\")\n",
    "print(f\"(b) Approximate Doppler Frequency: {f_d_approx:.2f} Hz\")"
   ]
  },
  {
   "cell_type": "code",
   "execution_count": null,
   "id": "7",
   "metadata": {},
   "outputs": [],
   "source": [
    "from IPython.display import IFrame\n",
    "\n",
    "IFrame(\n",
    "    src=(\n",
    "        \"https://www.scribd.com/embeds/506136374/content\"\n",
    "        + \"?start_page=1&view_mode=scroll&access_key=key-Kpry4OWEKx5QxQl6UcEM\"\n",
    "    ),\n",
    "    width=\"100%\",  # or a number like 800\n",
    "    height=600,\n",
    ")"
   ]
  },
  {
   "cell_type": "code",
   "execution_count": null,
   "id": "8",
   "metadata": {},
   "outputs": [],
   "source": []
  }
 ],
 "metadata": {
  "language_info": {
   "codemirror_mode": {
    "name": "ipython",
    "version": 3
   },
   "file_extension": ".py",
   "mimetype": "text/x-python",
   "name": "python",
   "nbconvert_exporter": "python",
   "pygments_lexer": "ipython3",
   "version": "3.12.6"
  }
 },
 "nbformat": 4,
 "nbformat_minor": 5
}
