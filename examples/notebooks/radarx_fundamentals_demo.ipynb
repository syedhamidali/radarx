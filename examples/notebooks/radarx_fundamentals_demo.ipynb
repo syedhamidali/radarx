{
 "cells": [
  {
   "cell_type": "markdown",
   "id": "0",
   "metadata": {},
   "source": [
    "# RadarX Fundamentals Demonstration\n",
    "\n",
    "This notebook demonstrates the usage of all core functions in the `radarx.fundamentals` module.\n",
    "We categorize the functions by domain: **Radar Constants**, **Geometry**, **Beam Properties**, **Power Calculations**,\n",
    "**Doppler Properties**, **Timing**, **Reflectivity**, and **Scattering**. We will also **print** and **plot** outputs\n",
    "for verification and provide scientific explanations alongside each step."
   ]
  },
  {
   "cell_type": "code",
   "execution_count": null,
   "id": "1",
   "metadata": {},
   "outputs": [],
   "source": [
    "# Imports\n",
    "import numpy as np\n",
    "import matplotlib.pyplot as plt\n",
    "from radarx.fundamentals import *\n",
    "from pprint import pprint"
   ]
  },
  {
   "cell_type": "markdown",
   "id": "2",
   "metadata": {},
   "source": [
    "## 📌 Constants Check\n",
    "We verify the radar constants."
   ]
  },
  {
   "cell_type": "code",
   "execution_count": null,
   "id": "3",
   "metadata": {},
   "outputs": [],
   "source": [
    "print(f\"Speed of light (C): {constants.C} m/s\")\n",
    "print(f\"Boltzmann constant (K): {constants.K_BOLTZMANN} J/K\")"
   ]
  },
  {
   "cell_type": "markdown",
   "id": "4",
   "metadata": {},
   "source": [
    "## 📡 Beam Characteristics\n",
    "We examine how the radar beam spreads and calculate related parameters."
   ]
  },
  {
   "cell_type": "code",
   "execution_count": null,
   "id": "5",
   "metadata": {},
   "outputs": [],
   "source": [
    "# Horizontal and vertical beamwidth\n",
    "beamwidth_deg = 1.0\n",
    "range_m = 10_000\n",
    "pulse_length = 150  # in meters\n",
    "\n",
    "bw_rad = beam.beamwidth_to_radians(beamwidth_deg)\n",
    "res_az = beam.azimuthal_resolution(range_m, beamwidth_deg)\n",
    "vol = beam.volume_resolution(range_m, beamwidth_deg, beamwidth_deg, pulse_length)\n",
    "\n",
    "print(f\"Beamwidth (radians): {bw_rad:.6f}\")\n",
    "print(f\"Azimuthal resolution at 10 km: {res_az:.2f} m\")\n",
    "print(f\"Sample volume at 10 km: {vol:.2f} m³\")"
   ]
  },
  {
   "cell_type": "markdown",
   "id": "6",
   "metadata": {},
   "source": [
    "## ⚡ Power Calculations\n",
    "We compute peak power, average power, and minimum detectable signal."
   ]
  },
  {
   "cell_type": "code",
   "execution_count": null,
   "id": "7",
   "metadata": {},
   "outputs": [],
   "source": [
    "pk_power = power.compute_peak_power(1000, 50)\n",
    "avg_power = power.compute_average_power(pk_power, 0.1)\n",
    "min_signal = power.compute_min_detectable_signal(1e6, 290)\n",
    "\n",
    "print(f\"Peak Power: {pk_power:.2f} W\")\n",
    "print(f\"Average Power (10% duty): {avg_power:.2f} W\")\n",
    "print(f\"Minimum Detectable Signal: {min_signal:.2e} W\")"
   ]
  },
  {
   "cell_type": "markdown",
   "id": "8",
   "metadata": {},
   "source": [
    "## 🌪️ Doppler Radar Parameters\n",
    "Nyquist velocity and unambiguous range are calculated based on PRF and wavelength."
   ]
  },
  {
   "cell_type": "code",
   "execution_count": null,
   "id": "9",
   "metadata": {},
   "outputs": [],
   "source": [
    "prf = 1000  # Hz\n",
    "wavelength = 0.03  # 3 cm\n",
    "\n",
    "v_nyq = doppler.nyquist_velocity(prf, wavelength)\n",
    "r_unamb = doppler.unambiguous_range(prf)\n",
    "v_dual = doppler.dual_prf_velocity(wavelength, 1000, 800)\n",
    "\n",
    "print(f\"Nyquist Velocity: {v_nyq:.2f} m/s\")\n",
    "print(f\"Unambiguous Range: {r_unamb:.2f} m\")\n",
    "print(f\"Dual PRF Velocity: {v_dual:.2f} m/s\")"
   ]
  },
  {
   "cell_type": "markdown",
   "id": "10",
   "metadata": {},
   "source": [
    "## ⏱️ Timing Parameters"
   ]
  },
  {
   "cell_type": "code",
   "execution_count": null,
   "id": "11",
   "metadata": {},
   "outputs": [],
   "source": [
    "pw = 1e-6  # 1 microsecond\n",
    "duty = timing.compute_duty_cycle(pw, prf)\n",
    "blind = timing.compute_blind_range(pw)\n",
    "\n",
    "print(f\"Duty Cycle: {duty:.3f}\")\n",
    "print(f\"Blind Range: {blind:.2f} m\")"
   ]
  },
  {
   "cell_type": "markdown",
   "id": "12",
   "metadata": {},
   "source": [
    "## 📈 Visualization of Beam Cross Section"
   ]
  },
  {
   "cell_type": "code",
   "execution_count": null,
   "id": "13",
   "metadata": {},
   "outputs": [],
   "source": [
    "# Plot azimuthal beam spread\n",
    "theta = np.linspace(-bw_rad, bw_rad, 500)\n",
    "r = np.full_like(theta, range_m)\n",
    "x = r * np.sin(theta)\n",
    "y = r * np.cos(theta)\n",
    "\n",
    "plt.figure(figsize=(6, 6))\n",
    "plt.plot(x, y)\n",
    "plt.title(\"Azimuthal Beam Spread at 10 km\")\n",
    "plt.xlabel(\"X (m)\")\n",
    "plt.ylabel(\"Y (m)\")\n",
    "plt.grid(True)\n",
    "plt.axis(\"equal\")\n",
    "plt.show()"
   ]
  },
  {
   "cell_type": "code",
   "execution_count": null,
   "id": "14",
   "metadata": {},
   "outputs": [],
   "source": [
    "import numpy as np\n",
    "import matplotlib.pyplot as plt\n",
    "\n",
    "# Radar beam specs\n",
    "range_m = 10_000\n",
    "beamwidth_deg = 1.0\n",
    "bw_rad = np.deg2rad(beamwidth_deg)\n",
    "\n",
    "# Define edges\n",
    "theta_edges = np.linspace(-bw_rad / 2, bw_rad / 2, 300)\n",
    "r_edges = np.linspace(0, range_m, 200)\n",
    "\n",
    "# Create 2D meshgrid for plotting\n",
    "Theta_edges, R_edges = np.meshgrid(theta_edges, r_edges)\n",
    "X = R_edges * np.sin(Theta_edges)\n",
    "Y = R_edges * np.cos(Theta_edges)\n",
    "\n",
    "# Create dummy field (like reflectivity pattern or just theta for illustration)\n",
    "C = Theta_edges[:-1, :-1]  # Trim to match the cell interior\n",
    "\n",
    "# Plot using pcolormesh\n",
    "plt.figure(figsize=(6, 6))\n",
    "pc = plt.pcolormesh(X, Y, C, shading=\"auto\", cmap=\"viridis\")\n",
    "plt.title(\"Radar Beam Cross Section (Azimuthal Plane)\")\n",
    "plt.xlabel(\"X (m)\")\n",
    "plt.ylabel(\"Y (m)\")\n",
    "# plt.axis('equal')\n",
    "plt.xlim(-500, 500)\n",
    "plt.grid(True)\n",
    "plt.colorbar(pc, label=\"Angle (rad)\")\n",
    "plt.show()"
   ]
  },
  {
   "cell_type": "code",
   "execution_count": null,
   "id": "15",
   "metadata": {},
   "outputs": [],
   "source": [
    "beamwidth_deg = 1.0\n",
    "beamwidth_rad = np.deg2rad(beamwidth_deg)\n",
    "beamwidth_rad_std = beamwidth_rad / (2 * np.sqrt(2 * np.log(2)))\n",
    "I = np.exp(-((theta / beamwidth_rad_std) ** 2))"
   ]
  },
  {
   "cell_type": "code",
   "execution_count": null,
   "id": "16",
   "metadata": {},
   "outputs": [],
   "source": [
    "import numpy as np\n",
    "import matplotlib.pyplot as plt\n",
    "\n",
    "# Parameters\n",
    "beamwidth_deg = 1.0\n",
    "beamwidth_rad = np.deg2rad(beamwidth_deg)\n",
    "beamwidth_rad_std = beamwidth_rad / (2 * np.sqrt(2 * np.log(2)))\n",
    "\n",
    "range_m = np.linspace(0, 10000, 500)\n",
    "theta = np.linspace(-beamwidth_rad, beamwidth_rad, 300)\n",
    "\n",
    "# Create meshgrid\n",
    "R, Theta = np.meshgrid(range_m, theta, indexing=\"ij\")  # shape: (500, 300)\n",
    "\n",
    "# Convert polar to Cartesian\n",
    "X = R * np.sin(Theta)\n",
    "Y = R * np.cos(Theta)\n",
    "\n",
    "# Gaussian beam intensity\n",
    "I = np.exp(-((Theta / beamwidth_rad_std) ** 2))\n",
    "\n",
    "# Plot\n",
    "plt.figure(figsize=(6, 6))\n",
    "plt.pcolormesh(X, Y, I, shading=\"nearest\", cmap=\"inferno\")\n",
    "plt.colorbar(label=\"Normalized Beam Intensity\")\n",
    "plt.title(\"Radar Beam Cross Section (Azimuthal Gaussian Profile)\")\n",
    "plt.xlabel(\"X (m)\")\n",
    "plt.ylabel(\"Y (m)\")\n",
    "plt.axis(\"equal\")\n",
    "plt.grid(True)\n",
    "plt.tight_layout()\n",
    "plt.show()"
   ]
  },
  {
   "cell_type": "code",
   "execution_count": null,
   "id": "17",
   "metadata": {},
   "outputs": [],
   "source": [
    "# Compute bin edges for range and angle\n",
    "r_edges = 0.5 * (range_m[:-1] + range_m[1:])\n",
    "r_edges = np.concatenate(\n",
    "    [\n",
    "        [range_m[0] - (r_edges[0] - range_m[0])],\n",
    "        r_edges,\n",
    "        [range_m[-1] + (range_m[-1] - r_edges[-1])],\n",
    "    ]\n",
    ")\n",
    "\n",
    "theta_edges = 0.5 * (theta[:-1] + theta[1:])\n",
    "theta_edges = np.concatenate(\n",
    "    [\n",
    "        [theta[0] - (theta_edges[0] - theta[0])],\n",
    "        theta_edges,\n",
    "        [theta[-1] + (theta[-1] - theta_edges[-1])],\n",
    "    ]\n",
    ")\n",
    "\n",
    "# 2D edges\n",
    "R_edges, Theta_edges = np.meshgrid(r_edges, theta_edges, indexing=\"ij\")\n",
    "X_edges = R_edges * np.sin(Theta_edges)\n",
    "Y_edges = R_edges * np.cos(Theta_edges)\n",
    "\n",
    "# Plot without warning\n",
    "plt.figure(figsize=(6, 6))\n",
    "plt.pcolormesh(X_edges, Y_edges, I, shading=\"auto\", cmap=\"inferno\")\n",
    "plt.colorbar(label=\"Normalized Beam Intensity\")\n",
    "plt.title(\"Radar Beam Cross Section (Azimuthal Gaussian Profile)\")\n",
    "plt.xlabel(\"X (m)\")\n",
    "plt.ylabel(\"Y (m)\")\n",
    "plt.axis(\"equal\")\n",
    "plt.grid(True)\n",
    "plt.tight_layout()\n",
    "plt.show()"
   ]
  },
  {
   "cell_type": "code",
   "execution_count": null,
   "id": "18",
   "metadata": {},
   "outputs": [],
   "source": []
  }
 ],
 "metadata": {
  "language_info": {
   "codemirror_mode": {
    "name": "ipython",
    "version": 3
   },
   "file_extension": ".py",
   "mimetype": "text/x-python",
   "name": "python",
   "nbconvert_exporter": "python",
   "pygments_lexer": "ipython3",
   "version": "3.12.6"
  }
 },
 "nbformat": 4,
 "nbformat_minor": 5
}
