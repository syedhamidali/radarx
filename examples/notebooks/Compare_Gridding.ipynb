{
 "cells": [
  {
   "cell_type": "markdown",
   "id": "0",
   "metadata": {},
   "source": [
    "# Compare Gridding Rate"
   ]
  },
  {
   "cell_type": "code",
   "execution_count": null,
   "id": "1",
   "metadata": {},
   "outputs": [],
   "source": [
    "import os\n",
    "import pyart\n",
    "import fsspec\n",
    "import numpy as np\n",
    "import radarx as rx\n",
    "import xarray as xr\n",
    "import xradar as xd\n",
    "from osgeo import osr\n",
    "import wradlib as wrl\n",
    "import cmweather  # noqa\n",
    "import cartopy.crs as ccrs\n",
    "from datetime import datetime"
   ]
  },
  {
   "cell_type": "code",
   "execution_count": null,
   "id": "2",
   "metadata": {},
   "outputs": [],
   "source": [
    "def filter_radar(ds):\n",
    "    ds = ds.where((ds.reflectivity >= 0) & (ds.reflectivity <= 70))\n",
    "    return ds"
   ]
  },
  {
   "cell_type": "markdown",
   "id": "3",
   "metadata": {},
   "source": [
    "## Grid Setup"
   ]
  },
  {
   "cell_type": "code",
   "execution_count": null,
   "id": "4",
   "metadata": {},
   "outputs": [],
   "source": [
    "x_lims = (-300e3, 250e3)\n",
    "y_lims = (-250e3, 300e3)\n",
    "z_lims = (0, 20e3)\n",
    "h_res = 2000\n",
    "v_res = 500"
   ]
  },
  {
   "cell_type": "markdown",
   "id": "5",
   "metadata": {},
   "source": [
    "## Load data"
   ]
  },
  {
   "cell_type": "code",
   "execution_count": null,
   "id": "6",
   "metadata": {},
   "outputs": [],
   "source": [
    "file = \"s3://noaa-nexrad-level2/2018/06/12/KSGF/KSGF20180612_083109_V06\"\n",
    "radar = pyart.io.read_nexrad_archive(file)\n",
    "filename = os.path.basename(file) + \".nc\"\n",
    "pyart.io.write_cfradial(filename, radar)"
   ]
  },
  {
   "cell_type": "code",
   "execution_count": null,
   "id": "7",
   "metadata": {},
   "outputs": [],
   "source": [
    "dtree = xd.io.open_cfradial1_datatree(filename)"
   ]
  },
  {
   "cell_type": "code",
   "execution_count": null,
   "id": "8",
   "metadata": {},
   "outputs": [],
   "source": [
    "dtree = rx.utils.combine_nexrad_sweeps(dtree)"
   ]
  },
  {
   "cell_type": "code",
   "execution_count": null,
   "id": "9",
   "metadata": {},
   "outputs": [],
   "source": [
    "dtree = dtree.xradar.map_over_sweeps(filter_radar)"
   ]
  },
  {
   "cell_type": "code",
   "execution_count": null,
   "id": "10",
   "metadata": {},
   "outputs": [],
   "source": [
    "dtree = dtree.xradar.georeference()\n",
    "dtree.groups"
   ]
  },
  {
   "cell_type": "code",
   "execution_count": null,
   "id": "11",
   "metadata": {},
   "outputs": [],
   "source": [
    "dtree[\"sweep_0\"][\"reflectivity\"].plot(\n",
    "    x=\"x\",\n",
    "    y=\"y\",\n",
    "    xlim=(-300e3, 200e3),\n",
    "    ylim=(-200e3, 300e3),\n",
    "    cmap=\"ChaseSpectral\",\n",
    "    levels=range(-10, 70),\n",
    ")"
   ]
  },
  {
   "cell_type": "markdown",
   "id": "12",
   "metadata": {},
   "source": [
    "## Py-ART"
   ]
  },
  {
   "cell_type": "code",
   "execution_count": null,
   "id": "13",
   "metadata": {},
   "outputs": [],
   "source": [
    "tstart = datetime.now()\n",
    "# Grid using 11 vertical levels, and 101 horizontal grid cells at a resolution on 1 km\n",
    "grid = pyart.map.grid_from_radars(\n",
    "    (radar,),\n",
    "    grid_shape=(41, 276, 276),\n",
    "    grid_limits=(\n",
    "        z_lims,\n",
    "        y_lims,\n",
    "        x_lims,\n",
    "    ),\n",
    "    fields=[\"reflectivity\"],\n",
    ")\n",
    "\n",
    "xg = grid.to_xarray()\n",
    "print(\"Py-ART gridding took:\", datetime.now() - tstart)\n",
    "display(xg)"
   ]
  },
  {
   "cell_type": "markdown",
   "id": "14",
   "metadata": {},
   "source": [
    "## Radarx"
   ]
  },
  {
   "cell_type": "code",
   "execution_count": null,
   "id": "15",
   "metadata": {},
   "outputs": [],
   "source": [
    "tstart = datetime.now()\n",
    "ds_rx = dtree.radarx.to_grid(\n",
    "    data_vars=[\"reflectivity\"],\n",
    "    pseudo_cappi=False,\n",
    "    x_lim=x_lims,\n",
    "    y_lim=y_lims,\n",
    "    z_lim=z_lims,\n",
    "    x_step=h_res,\n",
    "    y_step=h_res,\n",
    "    z_step=v_res,\n",
    "    x_smth=0.2,\n",
    "    y_smth=0.2,\n",
    "    z_smth=0.6,\n",
    ")\n",
    "print(\"Radarx gridding took:\", datetime.now() - tstart)\n",
    "display(ds_rx)"
   ]
  },
  {
   "cell_type": "markdown",
   "id": "16",
   "metadata": {},
   "source": [
    "## Wradlib"
   ]
  },
  {
   "cell_type": "code",
   "execution_count": null,
   "id": "17",
   "metadata": {},
   "outputs": [],
   "source": [
    "# Grid setup\n",
    "sitecoords = (\n",
    "    dtree[\"sweep_0\"].longitude.values,\n",
    "    dtree[\"sweep_0\"].latitude.values,\n",
    "    dtree[\"sweep_0\"].altitude.values,\n",
    ")\n",
    "\n",
    "proj = osr.SpatialReference()\n",
    "proj.ImportFromEPSG(4326)\n",
    "maxrange = 275e3\n",
    "maxalt = 20e3\n",
    "horiz_res = 2000\n",
    "vert_res = 500\n",
    "minalt = dtree.altitude.values\n",
    "minelev = 0.2\n",
    "maxelev = 21.0\n",
    "\n",
    "# Create target 3D grid\n",
    "trgxyz, trgshape = wrl.vpr.make_3d_grid(\n",
    "    sitecoords, proj, maxrange, maxalt, horiz_res, vert_res\n",
    ")\n",
    "\n",
    "print(trgshape)"
   ]
  },
  {
   "cell_type": "code",
   "execution_count": null,
   "id": "18",
   "metadata": {},
   "outputs": [],
   "source": [
    "tstart = datetime.now()\n",
    "data_var = \"reflectivity\"\n",
    "\n",
    "raw_dt = dtree.xradar.map_over_sweeps(rx.utils.get_geocoords)\n",
    "\n",
    "proj_crs = xd.georeference.get_crs(raw_dt[\"sweep_0\"].ds)\n",
    "\n",
    "proj = osr.SpatialReference()\n",
    "\n",
    "proj.ImportFromEPSG(4326)\n",
    "\n",
    "swp_list = []\n",
    "for swp in raw_dt.match(\"sweep_*\"):\n",
    "    ds = raw_dt[swp].to_dataset()\n",
    "    xyz = (\n",
    "        xr.concat(\n",
    "            [\n",
    "                ds.coords[\"x\"].reset_coords(drop=True),\n",
    "                ds.coords[\"y\"].reset_coords(drop=True),\n",
    "                ds.coords[\"z\"].reset_coords(drop=True),\n",
    "            ],\n",
    "            \"xyz\",\n",
    "        )\n",
    "        .stack(npoints=(\"azimuth\", \"range\"))\n",
    "        .transpose(..., \"xyz\")\n",
    "    )\n",
    "    swp_list.append(xyz)\n",
    "xyz = xr.concat(swp_list, \"npoints\")\n",
    "\n",
    "data_list = []\n",
    "for key in list(raw_dt.children):\n",
    "    if \"sweep\" in key:\n",
    "        ds = raw_dt[key].ds\n",
    "        data = ds[data_var].stack(npoints=(\"azimuth\", \"range\"))\n",
    "        data_list.append(data)\n",
    "data = xr.concat(data_list, \"npoints\")\n",
    "\n",
    "# interpolate to Cartesian 3-D volume grid\n",
    "gridder = wrl.vpr.CAPPI(\n",
    "    xyz.values,\n",
    "    trgxyz,\n",
    "    # gridshape=trgshape,\n",
    "    maxrange=maxrange,\n",
    "    minelev=minelev,\n",
    "    maxelev=maxelev,\n",
    ")\n",
    "\n",
    "vol = np.ma.masked_invalid(gridder(data.values).reshape(trgshape))\n",
    "\n",
    "# diagnostic plot\n",
    "trgx = trgxyz[:, 0].reshape(trgshape)[0, 0, :]\n",
    "trgy = trgxyz[:, 1].reshape(trgshape)[0, :, 0]\n",
    "trgz = trgxyz[:, 2].reshape(trgshape)[:, 0, 0]\n",
    "\n",
    "ds_wrl = xr.DataArray(\n",
    "    data=vol,\n",
    "    coords={\"z\": trgz, \"y\": trgy, \"x\": trgx},\n",
    "    dims=(\"z\", \"y\", \"x\"),\n",
    "    name=data_var,\n",
    ").to_dataset()\n",
    "ds_wrl[\"time\"] = ds_rx[\"time\"]\n",
    "ds_wrl.attrs = ds_rx.attrs\n",
    "ds_wrl[\"latitude\"] = ds_rx[\"latitude\"]\n",
    "ds_wrl[\"longitude\"] = ds_rx[\"longitude\"]\n",
    "ds_wrl[\"lon\"] = xr.DataArray(ds_rx.lon.values, dims=[\"x\"])\n",
    "ds_wrl[\"lat\"] = xr.DataArray(ds_rx.lat.values, dims=[\"y\"])\n",
    "ds_wrl = ds_wrl.set_coords([\"lon\", \"lat\"])\n",
    "print(\"Wradlib gridding took:\", datetime.now() - tstart)\n",
    "display(ds_wrl)"
   ]
  },
  {
   "cell_type": "markdown",
   "id": "19",
   "metadata": {},
   "source": [
    "## Plot"
   ]
  },
  {
   "cell_type": "markdown",
   "id": "20",
   "metadata": {},
   "source": [
    "Lets plot all three grids"
   ]
  },
  {
   "cell_type": "markdown",
   "id": "21",
   "metadata": {},
   "source": [
    "## Radarx"
   ]
  },
  {
   "cell_type": "code",
   "execution_count": null,
   "id": "22",
   "metadata": {},
   "outputs": [],
   "source": [
    "ds_rx.radarx.plot_max_cappi(\n",
    "    data_var=\"reflectivity\",\n",
    "    vmin=-10,\n",
    "    vmax=70,\n",
    "    range_rings=True,\n",
    "    add_map=True,\n",
    "    projection=ccrs.PlateCarree(),\n",
    ")"
   ]
  },
  {
   "cell_type": "markdown",
   "id": "23",
   "metadata": {},
   "source": [
    "## Py-ART"
   ]
  },
  {
   "cell_type": "code",
   "execution_count": null,
   "id": "24",
   "metadata": {},
   "outputs": [],
   "source": [
    "xg.squeeze().radarx.plot_max_cappi(\n",
    "    data_var=\"reflectivity\",\n",
    "    vmin=-10,\n",
    "    vmax=70,\n",
    "    range_rings=True,\n",
    "    add_map=True,\n",
    "    projection=ccrs.PlateCarree(),\n",
    ")"
   ]
  },
  {
   "cell_type": "markdown",
   "id": "25",
   "metadata": {},
   "source": [
    "## Wradlib"
   ]
  },
  {
   "cell_type": "code",
   "execution_count": null,
   "id": "26",
   "metadata": {},
   "outputs": [],
   "source": [
    "ds_wrl.radarx.plot_max_cappi(\n",
    "    data_var=\"reflectivity\",\n",
    "    vmin=-10,\n",
    "    vmax=70,\n",
    "    range_rings=True,\n",
    "    add_map=True,\n",
    ")"
   ]
  },
  {
   "cell_type": "code",
   "execution_count": null,
   "id": "27",
   "metadata": {},
   "outputs": [],
   "source": []
  }
 ],
 "metadata": {
  "language_info": {
   "codemirror_mode": {
    "name": "ipython",
    "version": 3
   },
   "file_extension": ".py",
   "mimetype": "text/x-python",
   "name": "python",
   "nbconvert_exporter": "python",
   "pygments_lexer": "ipython3",
   "version": "3.12.7"
  }
 },
 "nbformat": 4,
 "nbformat_minor": 5
}
